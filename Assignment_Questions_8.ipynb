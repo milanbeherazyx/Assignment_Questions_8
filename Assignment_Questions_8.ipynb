{
  "nbformat": 4,
  "nbformat_minor": 0,
  "metadata": {
    "colab": {
      "provenance": []
    },
    "kernelspec": {
      "name": "python3",
      "display_name": "Python 3"
    },
    "language_info": {
      "name": "python"
    }
  },
  "cells": [
    {
      "cell_type": "markdown",
      "source": [
        "<aside>\n",
        "💡 **Question 1**\n",
        "\n",
        "Given two strings s1 and s2, return *the lowest **ASCII** sum of deleted characters to make two strings equal*.\n",
        "\n",
        "**Example 1:**\n",
        "\n",
        "**Input:** s1 = \"sea\", s2 = \"eat\"\n",
        "\n",
        "**Output:** 231\n",
        "\n",
        "**Explanation:** Deleting \"s\" from \"sea\" adds the ASCII value of \"s\" (115) to the sum.\n",
        "\n",
        "Deleting \"t\" from \"eat\" adds 116 to the sum.\n",
        "\n",
        "At the end, both strings are equal, and 115 + 116 = 231 is the minimum sum possible to achieve this.\n",
        "\n",
        "</aside>"
      ],
      "metadata": {
        "id": "AqZV1mWPXgRM"
      }
    },
    {
      "cell_type": "code",
      "source": [
        "def minimumDeleteSum(s1, s2):\n",
        "    return calculateMinimumSum(s1, s2, 0, 0)\n",
        "\n",
        "def calculateMinimumSum(s1, s2, i, j):\n",
        "    if i == len(s1):\n",
        "        return sum(ord(ch) for ch in s2[j:])\n",
        "    if j == len(s2):\n",
        "        return sum(ord(ch) for ch in s1[i:])\n",
        "\n",
        "    if s1[i] == s2[j]:\n",
        "        return calculateMinimumSum(s1, s2, i+1, j+1)\n",
        "\n",
        "    delete_s1 = ord(s1[i]) + calculateMinimumSum(s1, s2, i+1, j)\n",
        "    delete_s2 = ord(s2[j]) + calculateMinimumSum(s1, s2, i, j+1)\n",
        "\n",
        "    return min(delete_s1, delete_s2)\n",
        "\n",
        "s1 = \"sea\"\n",
        "s2 = \"eat\"\n",
        "\n",
        "result = minimumDeleteSum(s1, s2)\n",
        "print(result)"
      ],
      "metadata": {
        "colab": {
          "base_uri": "https://localhost:8080/"
        },
        "id": "jPVHhTkMXhRS",
        "outputId": "fd73098b-85d7-4020-dbfb-b22123a9623e"
      },
      "execution_count": 1,
      "outputs": [
        {
          "output_type": "stream",
          "name": "stdout",
          "text": [
            "231\n"
          ]
        }
      ]
    },
    {
      "cell_type": "markdown",
      "source": [
        "<aside>\n",
        "💡 **Question 2**\n",
        "\n",
        "Given a string s containing only three types of characters: '(', ')' and '*', return true *if* s *is **valid***.\n",
        "\n",
        "The following rules define a **valid** string:\n",
        "\n",
        "- Any left parenthesis '(' must have a corresponding right parenthesis ')'.\n",
        "- Any right parenthesis ')' must have a corresponding left parenthesis '('.\n",
        "- Left parenthesis '(' must go before the corresponding right parenthesis ')'.\n",
        "- '*' could be treated as a single right parenthesis ')' or a single left parenthesis '(' or an empty string \"\".\n",
        "\n",
        "**Example 1:**\n",
        "\n",
        "**Input:** s = \"()\"\n",
        "\n",
        "**Output:**\n",
        "\n",
        "true\n",
        "\n",
        "</aside>"
      ],
      "metadata": {
        "id": "9jpB5CM4Yxsh"
      }
    },
    {
      "cell_type": "code",
      "source": [
        "class Solution(object):\n",
        "    def checkValidString(self, s):\n",
        "        \"\"\"\n",
        "        :type s: str\n",
        "        :rtype: bool\n",
        "        \"\"\"\n",
        "        return self.checkValidStringHelper(s, 0, 0)\n",
        "\n",
        "    def checkValidStringHelper(self, s, index, count):\n",
        "        if count < 0:\n",
        "            return False\n",
        "        if index == len(s):\n",
        "            return count == 0\n",
        "        if s[index] == '(':\n",
        "            return self.checkValidStringHelper(s, index + 1, count + 1)\n",
        "        if s[index] == ')':\n",
        "            if count == 0:\n",
        "                return False\n",
        "            return self.checkValidStringHelper(s, index + 1, count - 1)\n",
        "        if s[index] == '*':\n",
        "            # Try different possibilities for '*'\n",
        "            return (\n",
        "                self.checkValidStringHelper(s, index + 1, count + 1)  # treat '*' as '('\n",
        "                or self.checkValidStringHelper(s, index + 1, count - 1)  # treat '*' as ')'\n",
        "                or self.checkValidStringHelper(s, index + 1, count)  # ignore '*'\n",
        "            )\n",
        "        return False\n",
        "\n",
        "solution = Solution()\n",
        "s = \"()\"\n",
        "print(solution.checkValidString(s))\n"
      ],
      "metadata": {
        "colab": {
          "base_uri": "https://localhost:8080/"
        },
        "id": "R3zZqDqlYAlX",
        "outputId": "defdff12-966a-436e-c802-e8ce9cb59a2f"
      },
      "execution_count": 16,
      "outputs": [
        {
          "output_type": "stream",
          "name": "stdout",
          "text": [
            "True\n"
          ]
        }
      ]
    },
    {
      "cell_type": "markdown",
      "source": [
        "<aside>\n",
        "💡 **Question 3**\n",
        "\n",
        "Given two strings word1 and word2, return *the minimum number of **steps** required to make* word1 *and* word2 *the same*.\n",
        "\n",
        "In one **step**, you can delete exactly one character in either string.\n",
        "\n",
        "**Example 1:**\n",
        "\n",
        "**Input:** word1 = \"sea\", word2 = \"eat\"\n",
        "\n",
        "**Output:** 2\n",
        "\n",
        "**Explanation:** You need one step to make \"sea\" to \"ea\" and another step to make \"eat\" to \"ea\".\n",
        "\n",
        "</aside>"
      ],
      "metadata": {
        "id": "l0rJpThsaLUC"
      }
    },
    {
      "cell_type": "code",
      "source": [
        "class Solution(object):\n",
        "    def minDistance(self, word1, word2):\n",
        "        \"\"\"\n",
        "        :type word1: str\n",
        "        :type word2: str\n",
        "        :rtype: int\n",
        "        \"\"\"\n",
        "        def recursiveHelper(i, j):\n",
        "            # Base cases: if either word1 or word2 is empty, the number of steps is the length of the non-empty word\n",
        "            if i == -1:\n",
        "                return j + 1\n",
        "            if j == -1:\n",
        "                return i + 1\n",
        "\n",
        "            # If the last characters of word1 and word2 are the same, ignore them and recurse on the remaining strings\n",
        "            if word1[i] == word2[j]:\n",
        "                return recursiveHelper(i - 1, j - 1)\n",
        "\n",
        "            # If the last characters are different, try deleting the last character from either word1 or word2 and take the minimum of the two options\n",
        "            option1 = 1 + recursiveHelper(i - 1, j)  # delete last character from word1\n",
        "            option2 = 1 + recursiveHelper(i, j - 1)  # delete last character from word2\n",
        "            return min(option1, option2)\n",
        "\n",
        "        # Call the recursive helper function with the indices of the last characters in word1 and word2\n",
        "        return recursiveHelper(len(word1) - 1, len(word2) - 1)\n",
        "\n",
        "\n",
        "solution = Solution()\n",
        "word1 = \"sea\"\n",
        "word2 = \"eat\"\n",
        "print(solution.minDistance(word1, word2))\n"
      ],
      "metadata": {
        "colab": {
          "base_uri": "https://localhost:8080/"
        },
        "id": "QNCblxhGZw6D",
        "outputId": "042759be-12e7-4f81-e71a-fe4d02e7480c"
      },
      "execution_count": 15,
      "outputs": [
        {
          "output_type": "stream",
          "name": "stdout",
          "text": [
            "2\n"
          ]
        }
      ]
    },
    {
      "cell_type": "markdown",
      "source": [
        "<aside>\n",
        "💡 **Question 4**\n",
        "\n",
        "You need to construct a binary tree from a string consisting of parenthesis and integers.\n",
        "\n",
        "The whole input represents a binary tree. It contains an integer followed by zero, one or two pairs of parenthesis. The integer represents the root's value and a pair of parenthesis contains a child binary tree with the same structure.\n",
        "You always start to construct the **left** child node of the parent first if it exists.\n",
        "\n",
        "**Input:** s = \"4(2(3)(1))(6(5))\"\n",
        "\n",
        "**Output:** [4,2,6,3,1,5]\n",
        "\n",
        "</aside>"
      ],
      "metadata": {
        "id": "EJnfLw9hbTAp"
      }
    },
    {
      "cell_type": "code",
      "source": [
        "# Unable to do it."
      ],
      "metadata": {
        "id": "4dC1qhq5bOXZ"
      },
      "execution_count": 14,
      "outputs": []
    },
    {
      "cell_type": "markdown",
      "source": [
        "<aside>\n",
        "💡 **Question 5**\n",
        "\n",
        "Given an array of characters chars, compress it using the following algorithm:\n",
        "\n",
        "Begin with an empty string s. For each group of **consecutive repeating characters** in chars:\n",
        "\n",
        "- If the group's length is 1, append the character to s.\n",
        "- Otherwise, append the character followed by the group's length.\n",
        "\n",
        "The compressed string s **should not be returned separately**, but instead, be stored **in the input character array chars**. Note that group lengths that are 10 or longer will be split into multiple characters in chars.\n",
        "\n",
        "After you are done **modifying the input array,** return *the new length of the array*.\n",
        "\n",
        "You must write an algorithm that uses only constant extra space.\n",
        "\n",
        "**Example 1:**\n",
        "\n",
        "**Input:** chars = [\"a\",\"a\",\"b\",\"b\",\"c\",\"c\",\"c\"]\n",
        "\n",
        "**Output:** Return 6, and the first 6 characters of the input array should be: [\"a\",\"2\",\"b\",\"2\",\"c\",\"3\"]\n",
        "\n",
        "**Explanation:**\n",
        "\n",
        "The groups are \"aa\", \"bb\", and \"ccc\". This compresses to \"a2b2c3\".\n",
        "\n",
        "</aside>"
      ],
      "metadata": {
        "id": "Dc_YSCo3hoeY"
      }
    },
    {
      "cell_type": "code",
      "source": [
        "class Solution(object):\n",
        "    def compress(self, chars):\n",
        "        \"\"\"\n",
        "        :type chars: List[str]\n",
        "        :rtype: int\n",
        "        \"\"\"\n",
        "        # Base case: If the array is empty or has only one character, return the length\n",
        "        if len(chars) < 2:\n",
        "            return len(chars)\n",
        "\n",
        "        # Recursive helper function to compress characters\n",
        "        def compressHelper(chars, index, write, count):\n",
        "            if index >= len(chars):\n",
        "                # Write the last character and its count\n",
        "                chars[write] = chars[index - 1]\n",
        "                write += 1\n",
        "                if count > 1:\n",
        "                    count_str = str(count)\n",
        "                    for c in count_str:\n",
        "                        chars[write] = c\n",
        "                        write += 1\n",
        "                return write\n",
        "\n",
        "            if chars[index] == chars[index - 1]:\n",
        "                # If the current character is the same as the previous character, increment the count\n",
        "                return compressHelper(chars, index + 1, write, count + 1)\n",
        "            else:\n",
        "                # Write the current character\n",
        "                chars[write] = chars[index - 1]\n",
        "                write += 1\n",
        "                # If the count is greater than 1, write the count as characters\n",
        "                if count > 1:\n",
        "                    count_str = str(count)\n",
        "                    for c in count_str:\n",
        "                        chars[write] = c\n",
        "                        write += 1\n",
        "                # Reset the count for the new group of consecutive characters\n",
        "                return compressHelper(chars, index + 1, write, 1)\n",
        "\n",
        "        return compressHelper(chars, 1, 0, 1)\n",
        "\n",
        "\n",
        "solution = Solution()\n",
        "chars = [\"a\",\"a\",\"b\",\"b\",\"c\",\"c\",\"c\"]\n",
        "compressed_length = solution.compress(chars)\n",
        "print(compressed_length)  # Output: 6\n",
        "print(chars[:compressed_length])\n"
      ],
      "metadata": {
        "colab": {
          "base_uri": "https://localhost:8080/"
        },
        "id": "BpduQKu1cdJJ",
        "outputId": "5acbe3d3-999f-48d2-eb57-4e85286dc765"
      },
      "execution_count": 11,
      "outputs": [
        {
          "output_type": "stream",
          "name": "stdout",
          "text": [
            "6\n",
            "['a', '2', 'b', '2', 'c', '3']\n"
          ]
        }
      ]
    },
    {
      "cell_type": "markdown",
      "source": [
        "<aside>\n",
        "💡 **Question 6**\n",
        "\n",
        "Given two strings s and p, return *an array of all the start indices of* p*'s anagrams in* s. You may return the answer in **any order**.\n",
        "\n",
        "An **Anagram** is a word or phrase formed by rearranging the letters of a different word or phrase, typically using all the original letters exactly once.\n",
        "\n",
        "**Example 1:**\n",
        "\n",
        "**Input:** s = \"cbaebabacd\", p = \"abc\"\n",
        "\n",
        "**Output:** [0,6]\n",
        "\n",
        "**Explanation:**\n",
        "\n",
        "The substring with start index = 0 is \"cba\", which is an anagram of \"abc\".\n",
        "\n",
        "The substring with start index = 6 is \"bac\", which is an anagram of \"abc\".\n",
        "\n",
        "</aside>"
      ],
      "metadata": {
        "id": "XFFqEO6Bh1fN"
      }
    },
    {
      "cell_type": "code",
      "source": [
        "from collections import defaultdict\n",
        "\n",
        "class Solution(object):\n",
        "    def findAnagrams(self, s, p):\n",
        "        \"\"\"\n",
        "        :type s: str\n",
        "        :type p: str\n",
        "        :rtype: List[int]\n",
        "        \"\"\"\n",
        "        result = []\n",
        "        p_count = defaultdict(int)\n",
        "        window_count = defaultdict(int)\n",
        "\n",
        "        # Count the characters in string p\n",
        "        for char in p:\n",
        "            p_count[char] += 1\n",
        "\n",
        "        # Sliding window parameters\n",
        "        left, right = 0, 0\n",
        "        window_size = len(p)\n",
        "\n",
        "        while right < len(s):\n",
        "            # Expand the window\n",
        "            window_count[s[right]] += 1\n",
        "\n",
        "            # Shrink the window if its size exceeds the length of p\n",
        "            if right - left + 1 > window_size:\n",
        "                window_count[s[left]] -= 1\n",
        "                if window_count[s[left]] == 0:\n",
        "                    del window_count[s[left]]\n",
        "                left += 1\n",
        "\n",
        "            # Check if the current window is an anagram of p\n",
        "            if window_count == p_count:\n",
        "                result.append(left)\n",
        "\n",
        "            right += 1\n",
        "\n",
        "        return result\n",
        "\n",
        "\n",
        "solution = Solution()\n",
        "s = \"cbaebabacd\"\n",
        "p = \"abc\"\n",
        "indices = solution.findAnagrams(s, p)\n",
        "print(indices)"
      ],
      "metadata": {
        "colab": {
          "base_uri": "https://localhost:8080/"
        },
        "id": "bhVU3VzGhuFG",
        "outputId": "81424895-d389-41f5-cf09-d2f180be7a55"
      },
      "execution_count": 10,
      "outputs": [
        {
          "output_type": "stream",
          "name": "stdout",
          "text": [
            "[0, 6]\n"
          ]
        }
      ]
    },
    {
      "cell_type": "markdown",
      "source": [
        "<aside>\n",
        "💡 **Question 7**\n",
        "\n",
        "Given an encoded string, return its decoded string.\n",
        "\n",
        "The encoding rule is: k[encoded_string], where the encoded_string inside the square brackets is being repeated exactly k times. Note that k is guaranteed to be a positive integer.\n",
        "\n",
        "You may assume that the input string is always valid; there are no extra white spaces, square brackets are well-formed, etc. Furthermore, you may assume that the original data does not contain any digits and that digits are only for those repeat numbers, k. For example, there will not be input like 3a or 2[4].\n",
        "\n",
        "The test cases are generated so that the length of the output will never exceed 105.\n",
        "\n",
        "**Example 1:**\n",
        "\n",
        "**Input:** s = \"3[a]2[bc]\"\n",
        "\n",
        "**Output:** \"aaabcbc\"\n",
        "\n",
        "</aside>"
      ],
      "metadata": {
        "id": "4jCMBvhaiVRW"
      }
    },
    {
      "cell_type": "code",
      "source": [
        "class Solution(object):\n",
        "    def decodeString(self, s):\n",
        "        \"\"\"\n",
        "        :type s: str\n",
        "        :rtype: str\n",
        "        \"\"\"\n",
        "        def decode_helper(s, index):\n",
        "            result = \"\"\n",
        "            count = 0\n",
        "\n",
        "            while index < len(s):\n",
        "                if s[index].isdigit():\n",
        "                    count = count * 10 + int(s[index])\n",
        "                elif s[index] == '[':\n",
        "                    decoded_str, index = decode_helper(s, index + 1)\n",
        "                    result += decoded_str * count\n",
        "                    count = 0\n",
        "                elif s[index] == ']':\n",
        "                    return result, index\n",
        "                else:\n",
        "                    result += s[index]\n",
        "\n",
        "                index += 1\n",
        "\n",
        "            return result, index\n",
        "\n",
        "        return decode_helper(s, 0)[0]\n",
        "\n",
        "solution = Solution()\n",
        "s = \"3[a]2[bc]\"\n",
        "decoded_string = solution.decodeString(s)\n",
        "print(decoded_string)"
      ],
      "metadata": {
        "colab": {
          "base_uri": "https://localhost:8080/"
        },
        "id": "ca6Ozo3ciLdY",
        "outputId": "a738c7ea-437f-47db-b051-b0af25e2f8df"
      },
      "execution_count": 7,
      "outputs": [
        {
          "output_type": "stream",
          "name": "stdout",
          "text": [
            "aaabcbc\n"
          ]
        }
      ]
    },
    {
      "cell_type": "markdown",
      "source": [
        "<aside>\n",
        "💡 **Question 8**\n",
        "\n",
        "Given two strings s and goal, return true *if you can swap two letters in* s *so the result is equal to* goal*, otherwise, return* false*.*\n",
        "\n",
        "Swapping letters is defined as taking two indices i and j (0-indexed) such that i != j and swapping the characters at s[i] and s[j].\n",
        "\n",
        "- For example, swapping at indices 0 and 2 in \"abcd\" results in \"cbad\".\n",
        "\n",
        "**Example 1:**\n",
        "\n",
        "**Input:** s = \"ab\", goal = \"ba\"\n",
        "\n",
        "**Output:** true\n",
        "\n",
        "**Explanation:** You can swap s[0] = 'a' and s[1] = 'b' to get \"ba\", which is equal to goal.\n",
        "\n",
        "</aside>"
      ],
      "metadata": {
        "id": "kgmS9fE5irSv"
      }
    },
    {
      "cell_type": "code",
      "source": [
        "class Solution(object):\n",
        "    def buddyStrings(self, s, goal):\n",
        "        \"\"\"\n",
        "        :type s: str\n",
        "        :type goal: str\n",
        "        :rtype: bool\n",
        "        \"\"\"\n",
        "        # Check if the lengths of the strings are equal\n",
        "        if len(s) != len(goal):\n",
        "            return False\n",
        "\n",
        "        # Recursive helper function to check if two strings can be made equal by swapping characters\n",
        "        def helper(s, goal, idx1, idx2, count):\n",
        "            # Base case: Reached the end of the strings\n",
        "            if idx1 == len(s) and idx2 == len(goal):\n",
        "                return count == 2\n",
        "\n",
        "            # Base case: Found more than 2 mismatched characters\n",
        "            if count > 2:\n",
        "                return False\n",
        "\n",
        "            # Case 1: Characters at the current indices are already equal\n",
        "            if idx1 < len(s) and idx2 < len(goal) and s[idx1] == goal[idx2]:\n",
        "                return helper(s, goal, idx1+1, idx2+1, count)\n",
        "\n",
        "            # Case 2: Characters at the current indices are not equal\n",
        "            # Try swapping the characters and continue recursion\n",
        "            return (idx2 < len(goal) and helper(s, goal, idx1, idx2+1, count+1)) or \\\n",
        "                   (idx1 < len(s) and helper(s, goal, idx1+1, idx2, count+1))\n",
        "\n",
        "        # Start the recursion from index 0\n",
        "        return helper(s, goal, 0, 0, 0)\n",
        "\n",
        "\n",
        "solution = Solution()\n",
        "s = \"ab\"\n",
        "goal = \"ba\"\n",
        "buddyStrings = solution.buddyStrings(s, goal)\n",
        "print(buddyStrings)\n"
      ],
      "metadata": {
        "colab": {
          "base_uri": "https://localhost:8080/"
        },
        "id": "5uHa3_Lfimwj",
        "outputId": "95bfafbb-88e9-4786-a39d-d94498100cdb"
      },
      "execution_count": 8,
      "outputs": [
        {
          "output_type": "stream",
          "name": "stdout",
          "text": [
            "True\n"
          ]
        }
      ]
    },
    {
      "cell_type": "code",
      "source": [],
      "metadata": {
        "id": "hi7U2H3Jjnxa"
      },
      "execution_count": null,
      "outputs": []
    }
  ]
}